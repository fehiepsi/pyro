{
 "cells": [
  {
   "cell_type": "markdown",
   "metadata": {},
   "source": [
    "## Bayesian Gaussian Process Latent Variable Model"
   ]
  },
  {
   "cell_type": "markdown",
   "metadata": {},
   "source": [
    "We'll do dimensional reduction on single cell dataset to show to usefulness of informative prior and show that GPLVM can capture branching too."
   ]
  },
  {
   "cell_type": "code",
   "execution_count": 1,
   "metadata": {},
   "outputs": [],
   "source": [
    "%matplotlib inline\n",
    "import matplotlib.pyplot as plt\n",
    "import pandas as pd\n",
    "import torch\n",
    "\n",
    "import pyro\n",
    "import pyro.contrib.gp as gp\n",
    "import pyro.distributions as dist\n",
    "import pyro.ops.stats as stats\n",
    "\n",
    "pyro.enable_validation()\n",
    "pyro.set_rng_seed(0)"
   ]
  },
  {
   "cell_type": "code",
   "execution_count": 2,
   "metadata": {},
   "outputs": [
    {
     "data": {
      "text/html": [
       "<div>\n",
       "<style scoped>\n",
       "    .dataframe tbody tr th:only-of-type {\n",
       "        vertical-align: middle;\n",
       "    }\n",
       "\n",
       "    .dataframe tbody tr th {\n",
       "        vertical-align: top;\n",
       "    }\n",
       "\n",
       "    .dataframe thead th {\n",
       "        text-align: right;\n",
       "    }\n",
       "</style>\n",
       "<table border=\"1\" class=\"dataframe\">\n",
       "  <thead>\n",
       "    <tr style=\"text-align: right;\">\n",
       "      <th></th>\n",
       "      <th>Actb</th>\n",
       "      <th>Ahcy</th>\n",
       "      <th>Aqp3</th>\n",
       "      <th>Atp12a</th>\n",
       "      <th>Bmp4</th>\n",
       "      <th>Cdx2</th>\n",
       "      <th>Creb312</th>\n",
       "      <th>Cebpa</th>\n",
       "      <th>Dab2</th>\n",
       "      <th>DppaI</th>\n",
       "      <th>...</th>\n",
       "      <th>Sox2</th>\n",
       "      <th>Sall4</th>\n",
       "      <th>Sox17</th>\n",
       "      <th>Snail</th>\n",
       "      <th>Sox13</th>\n",
       "      <th>Tcfap2a</th>\n",
       "      <th>Tcfap2c</th>\n",
       "      <th>Tcf23</th>\n",
       "      <th>Utf1</th>\n",
       "      <th>Tspan8</th>\n",
       "    </tr>\n",
       "    <tr>\n",
       "      <th>Cell</th>\n",
       "      <th></th>\n",
       "      <th></th>\n",
       "      <th></th>\n",
       "      <th></th>\n",
       "      <th></th>\n",
       "      <th></th>\n",
       "      <th></th>\n",
       "      <th></th>\n",
       "      <th></th>\n",
       "      <th></th>\n",
       "      <th></th>\n",
       "      <th></th>\n",
       "      <th></th>\n",
       "      <th></th>\n",
       "      <th></th>\n",
       "      <th></th>\n",
       "      <th></th>\n",
       "      <th></th>\n",
       "      <th></th>\n",
       "      <th></th>\n",
       "      <th></th>\n",
       "    </tr>\n",
       "  </thead>\n",
       "  <tbody>\n",
       "    <tr>\n",
       "      <th>1C 1</th>\n",
       "      <td>14.01</td>\n",
       "      <td>19.28</td>\n",
       "      <td>23.89</td>\n",
       "      <td>28.0</td>\n",
       "      <td>28.0</td>\n",
       "      <td>21.28</td>\n",
       "      <td>20.84</td>\n",
       "      <td>28.00</td>\n",
       "      <td>23.08</td>\n",
       "      <td>17.17</td>\n",
       "      <td>...</td>\n",
       "      <td>18.24</td>\n",
       "      <td>13.94</td>\n",
       "      <td>23.84</td>\n",
       "      <td>16.33</td>\n",
       "      <td>22.54</td>\n",
       "      <td>22.82</td>\n",
       "      <td>16.26</td>\n",
       "      <td>28.0</td>\n",
       "      <td>28.0</td>\n",
       "      <td>18.53</td>\n",
       "    </tr>\n",
       "    <tr>\n",
       "      <th>1C 2</th>\n",
       "      <td>13.68</td>\n",
       "      <td>18.56</td>\n",
       "      <td>28.00</td>\n",
       "      <td>28.0</td>\n",
       "      <td>28.0</td>\n",
       "      <td>23.43</td>\n",
       "      <td>20.93</td>\n",
       "      <td>28.00</td>\n",
       "      <td>23.05</td>\n",
       "      <td>17.20</td>\n",
       "      <td>...</td>\n",
       "      <td>17.77</td>\n",
       "      <td>13.54</td>\n",
       "      <td>25.00</td>\n",
       "      <td>16.13</td>\n",
       "      <td>20.66</td>\n",
       "      <td>26.33</td>\n",
       "      <td>16.14</td>\n",
       "      <td>28.0</td>\n",
       "      <td>28.0</td>\n",
       "      <td>18.29</td>\n",
       "    </tr>\n",
       "    <tr>\n",
       "      <th>1C 3</th>\n",
       "      <td>13.42</td>\n",
       "      <td>18.19</td>\n",
       "      <td>26.18</td>\n",
       "      <td>28.0</td>\n",
       "      <td>28.0</td>\n",
       "      <td>22.87</td>\n",
       "      <td>19.61</td>\n",
       "      <td>28.00</td>\n",
       "      <td>21.73</td>\n",
       "      <td>17.05</td>\n",
       "      <td>...</td>\n",
       "      <td>17.51</td>\n",
       "      <td>13.50</td>\n",
       "      <td>28.00</td>\n",
       "      <td>15.90</td>\n",
       "      <td>20.32</td>\n",
       "      <td>22.93</td>\n",
       "      <td>15.47</td>\n",
       "      <td>28.0</td>\n",
       "      <td>28.0</td>\n",
       "      <td>18.92</td>\n",
       "    </tr>\n",
       "    <tr>\n",
       "      <th>1C 4</th>\n",
       "      <td>13.69</td>\n",
       "      <td>18.59</td>\n",
       "      <td>28.00</td>\n",
       "      <td>28.0</td>\n",
       "      <td>28.0</td>\n",
       "      <td>23.28</td>\n",
       "      <td>20.72</td>\n",
       "      <td>28.00</td>\n",
       "      <td>22.92</td>\n",
       "      <td>17.19</td>\n",
       "      <td>...</td>\n",
       "      <td>16.52</td>\n",
       "      <td>13.22</td>\n",
       "      <td>28.00</td>\n",
       "      <td>16.16</td>\n",
       "      <td>28.00</td>\n",
       "      <td>28.00</td>\n",
       "      <td>15.85</td>\n",
       "      <td>28.0</td>\n",
       "      <td>28.0</td>\n",
       "      <td>19.25</td>\n",
       "    </tr>\n",
       "    <tr>\n",
       "      <th>1C 5</th>\n",
       "      <td>13.47</td>\n",
       "      <td>18.60</td>\n",
       "      <td>24.20</td>\n",
       "      <td>28.0</td>\n",
       "      <td>28.0</td>\n",
       "      <td>24.19</td>\n",
       "      <td>21.75</td>\n",
       "      <td>23.69</td>\n",
       "      <td>22.41</td>\n",
       "      <td>17.23</td>\n",
       "      <td>...</td>\n",
       "      <td>17.82</td>\n",
       "      <td>13.41</td>\n",
       "      <td>24.26</td>\n",
       "      <td>16.15</td>\n",
       "      <td>20.15</td>\n",
       "      <td>24.32</td>\n",
       "      <td>16.05</td>\n",
       "      <td>28.0</td>\n",
       "      <td>28.0</td>\n",
       "      <td>18.77</td>\n",
       "    </tr>\n",
       "  </tbody>\n",
       "</table>\n",
       "<p>5 rows × 48 columns</p>\n",
       "</div>"
      ],
      "text/plain": [
       "       Actb   Ahcy   Aqp3  Atp12a  Bmp4   Cdx2  Creb312  Cebpa   Dab2  DppaI  \\\n",
       "Cell                                                                           \n",
       "1C 1  14.01  19.28  23.89    28.0  28.0  21.28    20.84  28.00  23.08  17.17   \n",
       "1C 2  13.68  18.56  28.00    28.0  28.0  23.43    20.93  28.00  23.05  17.20   \n",
       "1C 3  13.42  18.19  26.18    28.0  28.0  22.87    19.61  28.00  21.73  17.05   \n",
       "1C 4  13.69  18.59  28.00    28.0  28.0  23.28    20.72  28.00  22.92  17.19   \n",
       "1C 5  13.47  18.60  24.20    28.0  28.0  24.19    21.75  23.69  22.41  17.23   \n",
       "\n",
       "       ...     Sox2  Sall4  Sox17  Snail  Sox13  Tcfap2a  Tcfap2c  Tcf23  \\\n",
       "Cell   ...                                                                 \n",
       "1C 1   ...    18.24  13.94  23.84  16.33  22.54    22.82    16.26   28.0   \n",
       "1C 2   ...    17.77  13.54  25.00  16.13  20.66    26.33    16.14   28.0   \n",
       "1C 3   ...    17.51  13.50  28.00  15.90  20.32    22.93    15.47   28.0   \n",
       "1C 4   ...    16.52  13.22  28.00  16.16  28.00    28.00    15.85   28.0   \n",
       "1C 5   ...    17.82  13.41  24.26  16.15  20.15    24.32    16.05   28.0   \n",
       "\n",
       "      Utf1  Tspan8  \n",
       "Cell                \n",
       "1C 1  28.0   18.53  \n",
       "1C 2  28.0   18.29  \n",
       "1C 3  28.0   18.92  \n",
       "1C 4  28.0   19.25  \n",
       "1C 5  28.0   18.77  \n",
       "\n",
       "[5 rows x 48 columns]"
      ]
     },
     "execution_count": 2,
     "metadata": {},
     "output_type": "execute_result"
    }
   ],
   "source": [
    "df = pd.read_excel(\"mmc4.xls\", index_col=0)\n",
    "df.head()"
   ]
  },
  {
   "cell_type": "code",
   "execution_count": 3,
   "metadata": {},
   "outputs": [],
   "source": [
    "N, C = df.shape"
   ]
  },
  {
   "cell_type": "code",
   "execution_count": 4,
   "metadata": {},
   "outputs": [],
   "source": [
    "data = torch.tensor(df.values, dtype=torch.float)"
   ]
  },
  {
   "cell_type": "code",
   "execution_count": 5,
   "metadata": {},
   "outputs": [],
   "source": [
    "y = ((data - data.mean(0)) / data.std(0, unbiased=False)).t()"
   ]
  },
  {
   "cell_type": "code",
   "execution_count": 6,
   "metadata": {},
   "outputs": [],
   "source": [
    "pseudotime = torch.tensor([int(cell_name.split(\"C\")[0]) for cell_name in df.index.values])"
   ]
  },
  {
   "cell_type": "code",
   "execution_count": 7,
   "metadata": {},
   "outputs": [],
   "source": [
    "X_init = torch.zeros(N, 2)\n",
    "X_init[:, 0] = (pseudotime.float() - 1) / 63"
   ]
  },
  {
   "cell_type": "code",
   "execution_count": 8,
   "metadata": {},
   "outputs": [],
   "source": [
    "kernel = gp.kernels.RBF(input_dim=2, lengthscale=torch.ones(2))\n",
    "likelihood = gp.likelihoods.Gaussian(variance=torch.tensor(0.01))\n",
    "Xu = stats.resample(X_init, 40).clone()\n",
    "gpmodel = gp.models.VariationalSparseGP(X_init.clone(), y, kernel, Xu, likelihood,\n",
    "                                        whiten=True)\n",
    "gplvm = gp.models.GPLVM(gpmodel)\n",
    "gplvm.set_prior(\"X\", dist.Normal(X_init.clone(), 0.1).to_event(2))\n",
    "gplvm.autoguide(\"X\", dist.Normal)\n",
    "losses = gp.util.train(gplvm, num_steps=1400)"
   ]
  },
  {
   "cell_type": "code",
   "execution_count": 9,
   "metadata": {},
   "outputs": [
    {
     "data": {
      "text/plain": [
       "[<matplotlib.lines.Line2D at 0x7ff9d89e2978>]"
      ]
     },
     "execution_count": 9,
     "metadata": {},
     "output_type": "execute_result"
    },
    {
     "data": {
      "image/png": "[encoded data removed]",
      "text/plain": [
       "<Figure size 432x288 with 1 Axes>"
      ]
     },
     "metadata": {
      "needs_background": "light"
     },
     "output_type": "display_data"
    }
   ],
   "source": [
    "plt.plot(losses)"
   ]
  },
  {
   "cell_type": "code",
   "execution_count": 10,
   "metadata": {},
   "outputs": [],
   "source": [
    "gplvm.mode = \"guide\"\n",
    "X = gplvm.X"
   ]
  },
  {
   "cell_type": "code",
   "execution_count": 13,
   "metadata": {},
   "outputs": [],
   "source": [
    "X = gplvm.X_loc"
   ]
  },
  {
   "cell_type": "code",
   "execution_count": 18,
   "metadata": {},
   "outputs": [
    {
     "data": {
      "text/plain": [
       "Index(['1C 1', '1C 2', '1C 3', '1C 4', '1C 5', '1C 6', '1C 7', '1C 8', '1C 9',\n",
       "       '2C 1.1',\n",
       "       ...\n",
       "       '64C 7.5', '64C 7.6', '64C 7.7', '64C 7.8', '64C 7.9', '64C 7.10',\n",
       "       '64C 7.11', '64C 7.12', '64C 7.13', '64C 7.14'],\n",
       "      dtype='object', name='Cell', length=442)"
      ]
     },
     "execution_count": 18,
     "metadata": {},
     "output_type": "execute_result"
    }
   ],
   "source": [
    "df.index"
   ]
  },
  {
   "cell_type": "code",
   "execution_count": 16,
   "metadata": {},
   "outputs": [
    {
     "data": {
      "text/plain": [
       "Text(0.5,1,'GPLVM of single-cell dataset')"
      ]
     },
     "execution_count": 16,
     "metadata": {},
     "output_type": "execute_result"
    },
    {
     "data": {
      "image/png": "[encoded data removed]",
      "text/plain": [
       "<Figure size 576x576 with 1 Axes>"
      ]
     },
     "metadata": {
      "needs_background": "light"
     },
     "output_type": "display_data"
    }
   ],
   "source": [
    "plt.figure(figsize=(8, 8))\n",
    "colors = ['navy', 'turquoise', 'darkorange', 'red', 'green', 'blue', 'black']\n",
    "lw = 2\n",
    "\n",
    "for color, i in zip(colors, [1, 2, 4, 8, 16, 32, 64]):\n",
    "    plt.scatter(X[pseudotime == i, 0].tolist(), X[pseudotime == i, 1].tolist(),\n",
    "                color=color, alpha=.8, lw=lw, label=i)\n",
    "plt.legend(loc='best', shadow=False, scatterpoints=1)\n",
    "plt.xlabel(\"pseudotime\", fontsize=14)\n",
    "plt.ylabel(\"branching\", fontsize=14)\n",
    "plt.title('GPLVM of single-cell dataset')"
   ]
  },
  {
   "cell_type": "markdown",
   "metadata": {},
   "source": [
    "### References\n",
    "\n",
    "+ `GrandPrix: Scaling up the Bayesian GPLVM for single-cell data`, by Sumon Ahmed, Magnus Rattray, Alexis Boukouvalas\n",
    "+ `Resolution of Cell Fate Decisions Revealed by Single-Cell Gene Expression Analysis from Zygote to Blastocyst`, by Guoji Guo, Mikael Huss, Guo Qing Tong, Chaoyang Wang, Li Li Sun, Neil D. Clarke, Paul Robson\n",
    "+ `Bayesian Gaussian Process Latent Variable Model`, by Michalis K. Titsias,\n",
    "Neil D. Lawrence"
   ]
  }
 ],
 "metadata": {
  "kernelspec": {
   "display_name": "Python 3",
   "language": "python",
   "name": "python3"
  },
  "language_info": {
   "codemirror_mode": {
    "name": "ipython",
    "version": 3
   },
   "file_extension": ".py",
   "mimetype": "text/x-python",
   "name": "python",
   "nbconvert_exporter": "python",
   "pygments_lexer": "ipython3",
   "version": "3.6.7"
  }
 },
 "nbformat": 4,
 "nbformat_minor": 2
}
