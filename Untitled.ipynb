{
 "cells": [
  {
   "cell_type": "code",
   "execution_count": 1,
   "metadata": {},
   "outputs": [],
   "source": [
    "import torch"
   ]
  },
  {
   "cell_type": "code",
   "execution_count": 2,
   "metadata": {},
   "outputs": [],
   "source": [
    "def resample(input, num_samples, dim=-1, replacement=False):\n",
    "    \"\"\"\n",
    "    Draws `num_samples` samples from `input` at dimension `dim`.\n",
    "\n",
    "    :param torch.Tensor input: the input tensor.\n",
    "    :param int num_samples: the number of samples to draw from `input`.\n",
    "    :param int dim: dimension to draw from `input`.\n",
    "    :returns torch.Tensor: samples drawn from `input`.\n",
    "    \"\"\"\n",
    "    weights = input.new_ones(input.size(dim))\n",
    "    indices = torch.multinomial(weights, num_samples, replacement)\n",
    "    return input.index_select(dim, indices)"
   ]
  },
  {
   "cell_type": "code",
   "execution_count": 33,
   "metadata": {},
   "outputs": [],
   "source": [
    "x = torch.empty(10000)\n",
    "x.normal_(3, 4)\n",
    "y = resample(x, num_samples=2000)"
   ]
  },
  {
   "cell_type": "code",
   "execution_count": 34,
   "metadata": {},
   "outputs": [
    {
     "data": {
      "text/plain": [
       "tensor(2.9653)"
      ]
     },
     "execution_count": 34,
     "metadata": {},
     "output_type": "execute_result"
    }
   ],
   "source": [
    "y.mean()"
   ]
  },
  {
   "cell_type": "code",
   "execution_count": 35,
   "metadata": {},
   "outputs": [
    {
     "data": {
      "text/plain": [
       "tensor(3.9542)"
      ]
     },
     "execution_count": 35,
     "metadata": {},
     "output_type": "execute_result"
    }
   ],
   "source": [
    "y.std()"
   ]
  }
 ],
 "metadata": {
  "kernelspec": {
   "display_name": "Python 3",
   "language": "python",
   "name": "python3"
  },
  "language_info": {
   "codemirror_mode": {
    "name": "ipython",
    "version": 3
   },
   "file_extension": ".py",
   "mimetype": "text/x-python",
   "name": "python",
   "nbconvert_exporter": "python",
   "pygments_lexer": "ipython3",
   "version": "3.6.6"
  }
 },
 "nbformat": 4,
 "nbformat_minor": 2
}
