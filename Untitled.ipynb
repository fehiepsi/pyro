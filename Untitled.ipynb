{
 "cells": [
  {
   "cell_type": "code",
   "execution_count": 1,
   "metadata": {},
   "outputs": [],
   "source": [
    "import torch"
   ]
  },
  {
   "cell_type": "code",
   "execution_count": 103,
   "metadata": {},
   "outputs": [],
   "source": [
    "def _fft_next_good_size(N):\n",
    "    # find the smallest number >= N such that the only divisors are 2, 3, 5\n",
    "    if N <= 2:\n",
    "        return 2\n",
    "    while True:\n",
    "        m = N\n",
    "        while m % 2 == 0:\n",
    "            m //= 2\n",
    "        while m % 3 == 0:\n",
    "            m //= 3\n",
    "        while m % 5 == 0:\n",
    "            m //= 5\n",
    "        if m == 1:\n",
    "            return N\n",
    "        N += 1\n",
    "\n",
    "\n",
    "def autocorrelation(input):\n",
    "    \"\"\"\n",
    "    Computes the autocorrelation of a sample.\n",
    "\n",
    "    Reference: https://en.wikipedia.org/wiki/Autocorrelation#Efficient_computation\n",
    "    \"\"\"\n",
    "    # Adapted from Stan implementation\n",
    "    # https://github.com/stan-dev/math/blob/develop/stan/math/prim/mat/fun/autocorrelation.hpp\n",
    "    N = input.size(-1)\n",
    "    M = _fft_next_good_size(N)\n",
    "    M2 = 2 * M\n",
    "    # centering and padding x\n",
    "    centered_signal = input - input.mean()\n",
    "    pad = input.new_zeros(input.shape[:-1] + (M2 - N,))\n",
    "    centered_signal = torch.cat([centered_signal, pad], dim=-1)\n",
    "    # Fourier transform\n",
    "    freqvec = torch.rfft(centered_signal, signal_ndim=1, onesided=False)\n",
    "    # take square of magnitude of freqvec (or freqvec x freqvec*)\n",
    "    freqvec_gram = freqvec.pow(2).sum(-1,     Reference: https://en.wikipedia.org/wiki/Autocorrelation#Efficient_computation)\n",
    "    freqvec_gram = torch.stack([freqvec_gram, input.new_zeros(freqvec_gram.shape)], dim=-1)\n",
    "    # inverse Fourier transform\n",
    "    ac = torch.irfft(freqvec_gram, signal_ndim=1, onesided=False)\n",
    "    ac = ac[..., :N]\n",
    "    ac = ac / input.new_tensor(range(N, 0, -1))\n",
    "    ac = ac / ac[..., :1]\n",
    "    return ac"
   ]
  },
  {
   "cell_type": "code",
   "execution_count": 111,
   "metadata": {},
   "outputs": [
    {
     "data": {
      "text/plain": [
       "tensor([[0, 1],\n",
       "        [2, 3],\n",
       "        [4, 5],\n",
       "        [6, 7],\n",
       "        [8, 9]])"
      ]
     },
     "execution_count": 111,
     "metadata": {},
     "output_type": "execute_result"
    }
   ],
   "source": [
    "torch.arange(10).reshape(5, 2)"
   ]
  },
  {
   "cell_type": "code",
   "execution_count": 128,
   "metadata": {},
   "outputs": [
    {
     "data": {
      "text/plain": [
       "tensor([[ 0.0000, -0.1085, -0.2398, -1.1902, -0.1839],\n",
       "        [ 0.0000,  0.0000,  1.2780,  0.0205, -1.0378],\n",
       "        [ 0.0000,  0.0000,  0.0000,  0.1943,  0.9452],\n",
       "        [ 0.0000,  0.0000,  0.0000,  0.0000, -1.3623],\n",
       "        [ 0.0000,  0.0000,  0.0000,  0.0000,  0.0000]])"
      ]
     },
     "execution_count": 128,
     "metadata": {},
     "output_type": "execute_result"
    }
   ],
   "source": [
    "x.triu(diagonal=1)"
   ]
  },
  {
   "cell_type": "code",
   "execution_count": 133,
   "metadata": {},
   "outputs": [
    {
     "data": {
      "text/plain": [
       "torch.Size([5, 5, 2, 2, 2])"
      ]
     },
     "execution_count": 133,
     "metadata": {},
     "output_type": "execute_result"
    }
   ],
   "source": [
    "x.reshape(x.shape + (1,) * 3).expand(5, 5, 2, 2, 2).shape"
   ]
  },
  {
   "cell_type": "code",
   "execution_count": 113,
   "metadata": {},
   "outputs": [
    {
     "data": {
      "text/plain": [
       "tensor([[-0.2690, -0.1085, -0.2398, -1.1902, -0.1839],\n",
       "        [-1.2248, -0.5444,  1.2780,  0.0205, -1.0378],\n",
       "        [ 2.0283,  0.8784, -0.0965,  0.1943,  0.9452],\n",
       "        [-0.5616,  0.6298, -0.7347,  0.8957, -1.3623],\n",
       "        [ 0.8914, -0.0796, -1.4673, -1.1544, -1.9524]])"
      ]
     },
     "execution_count": 113,
     "metadata": {},
     "output_type": "execute_result"
    }
   ],
   "source": [
    "x = torch.randn(5, 5)\n",
    "x"
   ]
  },
  {
   "cell_type": "code",
   "execution_count": 130,
   "metadata": {},
   "outputs": [
    {
     "data": {
      "text/plain": [
       "tensor([[0.0000, 0.0000, 0.0000, 0.0000, 0.0000],\n",
       "        [0.0000, 0.0000, 0.0000, 0.0000, 0.0000],\n",
       "        [2.0283, 0.8784, 0.0000, 0.0000, 0.0000],\n",
       "        [0.0000, 0.6298, 0.0000, 0.8957, 0.0000],\n",
       "        [0.8914, 0.0000, 0.0000, 0.0000, 0.0000]])"
      ]
     },
     "execution_count": 130,
     "metadata": {},
     "output_type": "execute_result"
    }
   ],
   "source": [
    "y = x.clamp(0)\n",
    "y[(y + 1).triu(diagonal=1) > 0.5] = 0\n",
    "y"
   ]
  },
  {
   "cell_type": "code",
   "execution_count": 121,
   "metadata": {},
   "outputs": [
    {
     "data": {
      "text/plain": [
       "tensor([[0, 0, 0, 0, 0],\n",
       "        [0, 0, 1, 1, 0],\n",
       "        [1, 1, 0, 1, 1],\n",
       "        [0, 1, 0, 1, 0],\n",
       "        [1, 0, 0, 0, 0]], dtype=torch.uint8)"
      ]
     },
     "execution_count": 121,
     "metadata": {},
     "output_type": "execute_result"
    }
   ],
   "source": [
    "(x > 0)"
   ]
  },
  {
   "cell_type": "code",
   "execution_count": 124,
   "metadata": {},
   "outputs": [
    {
     "data": {
      "text/plain": [
       "tensor([[[0.1984, 0.9713, 0.5919, 0.1230],\n",
       "         [0.9644, 0.9378, 0.8991, 0.0296],\n",
       "         [0.3891, 0.7916, 0.3459, 0.5960]],\n",
       "\n",
       "        [[0.1984, 0.9713, 0.5919, 0.1230],\n",
       "         [0.9644, 0.9378, 0.8991, 0.0296],\n",
       "         [0.3891, 0.7916, 0.3459, 0.5960]],\n",
       "\n",
       "        [[0.1984, 0.9713, 0.5919, 0.1230],\n",
       "         [0.9644, 0.9378, 0.8991, 0.0296],\n",
       "         [0.3891, 0.7916, 0.3459, 0.5960]],\n",
       "\n",
       "        [[0.1984, 0.9713, 0.5919, 0.1230],\n",
       "         [0.9644, 0.9378, 0.8991, 0.0296],\n",
       "         [0.3891, 0.7916, 0.3459, 0.5960]],\n",
       "\n",
       "        [[0.1984, 0.9713, 0.5919, 0.1230],\n",
       "         [0.9644, 0.9378, 0.8991, 0.0296],\n",
       "         [0.3891, 0.7916, 0.3459, 0.5960]]])"
      ]
     },
     "execution_count": 124,
     "metadata": {},
     "output_type": "execute_result"
    }
   ],
   "source": [
    "torch.rand(3, 4).unsqueeze(0).expand(5, 3, 4)"
   ]
  },
  {
   "cell_type": "code",
   "execution_count": 122,
   "metadata": {},
   "outputs": [
    {
     "data": {
      "text/plain": [
       "tensor([4, 4, 2, 4, 4])"
      ]
     },
     "execution_count": 122,
     "metadata": {},
     "output_type": "execute_result"
    }
   ],
   "source": [
    "(x > 0).argmin(dim=1)"
   ]
  },
  {
   "cell_type": "code",
   "execution_count": 109,
   "metadata": {},
   "outputs": [
    {
     "name": "stdout",
     "output_type": "stream",
     "text": [
      "torch.Size([2000])\n",
      "torch.Size([2000, 2])\n",
      "torch.Size([2000, 2])\n",
      "torch.Size([2000])\n"
     ]
    },
    {
     "data": {
      "text/plain": [
       "tensor([1.0000, 0.8079, 0.6567, 0.5288, 0.4240, 0.3557])"
      ]
     },
     "execution_count": 109,
     "metadata": {},
     "output_type": "execute_result"
    }
   ],
   "source": [
    "x = torch.empty(1000)\n",
    "x[0].normal_(0, 1)\n",
    "for i in range(1, 1000):\n",
    "    x[i].normal_(0.8 * x[i-1], 1)\n",
    "autocorrelation(x)[:6]"
   ]
  },
  {
   "cell_type": "code",
   "execution_count": 16,
   "metadata": {},
   "outputs": [
    {
     "data": {
      "text/plain": [
       "(1, 0.8, 0.64, 0.51, 0.41, 0.33)"
      ]
     },
     "execution_count": 16,
     "metadata": {},
     "output_type": "execute_result"
    }
   ],
   "source": [
    "1, 0.8, 0.64, 0.51, 0.41, 0.33"
   ]
  },
  {
   "cell_type": "code",
   "execution_count": 44,
   "metadata": {},
   "outputs": [],
   "source": [
    "M2 = 2 * x.size(0)\n",
    "N = x.size(0)\n",
    "centered_signal = x.new_zeros(M2)\n",
    "centered_signal[:N] = x - x.mean()\n",
    "freqvec = torch.rfft(centered_signal, signal_ndim=1, onesided=False)"
   ]
  },
  {
   "cell_type": "code",
   "execution_count": 47,
   "metadata": {},
   "outputs": [
    {
     "data": {
      "text/plain": [
       "tensor([1.1444e-05, 1.6473e+02, 1.1446e+02,  ..., 7.4015e+01, 1.1446e+02,\n",
       "        1.6473e+02])"
      ]
     },
     "execution_count": 47,
     "metadata": {},
     "output_type": "execute_result"
    }
   ],
   "source": [
    "freqvec.norm(p=2, dim=-1)"
   ]
  }
 ],
 "metadata": {
  "kernelspec": {
   "display_name": "Python 3",
   "language": "python",
   "name": "python3"
  },
  "language_info": {
   "codemirror_mode": {
    "name": "ipython",
    "version": 3
   },
   "file_extension": ".py",
   "mimetype": "text/x-python",
   "name": "python",
   "nbconvert_exporter": "python",
   "pygments_lexer": "ipython3",
   "version": "3.6.6"
  }
 },
 "nbformat": 4,
 "nbformat_minor": 2
}
